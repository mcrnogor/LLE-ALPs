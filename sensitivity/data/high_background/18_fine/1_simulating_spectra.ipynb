{
 "cells": [
  {
   "cell_type": "code",
   "execution_count": 1,
   "metadata": {},
   "outputs": [],
   "source": [
    "# Importing the necessary packages\n",
    "\n",
    "import numpy as np\n",
    "import os, sys\n",
    "import matplotlib.pyplot as plt\n",
    "\n",
    "# importing XSPEC\n",
    "\n",
    "import xspec as xs\n",
    "xs.Xset.allowPrompting = False #keeps pyxspec from hanging, waiting a response to a prompt\n",
    "xs.Xset.allowNewAttributes = True"
   ]
  },
  {
   "cell_type": "code",
   "execution_count": 2,
   "metadata": {},
   "outputs": [],
   "source": [
    "N = np.linspace(1.24937577e-02, 2.76388943e-02, 30) # normalization values, [1e-52 cm^-2]"
   ]
  },
  {
   "cell_type": "code",
   "execution_count": 3,
   "metadata": {},
   "outputs": [],
   "source": [
    "E_LLE = np.load('bn081024891_EMeV.npy') # LLE energy bins, [MeV]\n",
    "SED18 = np.load('bn081024891_SED18.npy') # the output of Manuel's code, N = 1 cm^-2\n",
    "\n",
    "from scipy.interpolate import interp1d\n",
    "f = interp1d(E_LLE*1000, SED18/1000, 'cubic', fill_value=\"extrapolate\") # in keV and per keV\n",
    "\n",
    "\n",
    "# defining Xspec model\n",
    "\n",
    "def ALP(engs, params, flux):\n",
    "    energy_binsizes = np.ediff1d(engs)\n",
    "    # finding the average bin value for energy\n",
    "    energy = (np.asarray(engs[:-1])+np.asarray(engs[1:]))/2\n",
    "    flux[:] = f(energy) * energy_binsizes\n",
    "\n",
    "ALPInfo = ()\n",
    "xs.AllModels.addPyMod(ALP, ALPInfo, 'add', spectrumDependent=False)"
   ]
  },
  {
   "cell_type": "code",
   "execution_count": 4,
   "metadata": {},
   "outputs": [],
   "source": [
    "#bn081024891# Faking the data\n",
    "\n",
    "xs.AllData.clear()\n",
    "xs.AllModels.clear() \n",
    "m = xs.Model('ALP') \n",
    "\n",
    "# freezing the model parameters \n",
    "for i in range(len(N)):\n",
    "    m.ALP.norm.values = N[i]\n",
    "    m.ALP.norm.frozen = True\n",
    "    xs.AllData.clear()\n",
    "    fs = xs.FakeitSettings(background=\"bn081024891_LAT-LLE_bkgspectra.bak{1}\",response='bn081024891_LAT-LLE_weightedrsp.rsp', fileName='bn081024891_fakeit_%s.fak' %i)\n",
    "    sl = 2000*[fs] # making 2000 simulations\n",
    "    xs.AllData.fakeit(2000, sl)"
   ]
  },
  {
   "cell_type": "code",
   "execution_count": null,
   "metadata": {},
   "outputs": [],
   "source": []
  }
 ],
 "metadata": {
  "kernelspec": {
   "display_name": "Python 2",
   "language": "python",
   "name": "python2"
  },
  "language_info": {
   "codemirror_mode": {
    "name": "ipython",
    "version": 2
   },
   "file_extension": ".py",
   "mimetype": "text/x-python",
   "name": "python",
   "nbconvert_exporter": "python",
   "pygments_lexer": "ipython2",
   "version": "2.7.15"
  }
 },
 "nbformat": 4,
 "nbformat_minor": 2
}
