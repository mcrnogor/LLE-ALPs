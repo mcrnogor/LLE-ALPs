{
 "cells": [
  {
   "cell_type": "code",
   "execution_count": 1,
   "metadata": {},
   "outputs": [],
   "source": [
    "# Importing the necessary packages\n",
    "\n",
    "import numpy as np\n",
    "import os, sys\n",
    "import matplotlib.pyplot as plt\n",
    "\n",
    "# importing XSPEC\n",
    "\n",
    "import xspec as xs\n",
    "xs.Xset.allowPrompting = False #keeps pyxspec from hanging, waiting a response to a prompt\n",
    "xs.Xset.allowNewAttributes = True"
   ]
  },
  {
   "cell_type": "code",
   "execution_count": 2,
   "metadata": {},
   "outputs": [],
   "source": [
    "N = np.logspace(np.log10(8.4e-8), np.log10(8.4e2), 30) # normalization values, [1e-52 cm^-2]\n",
    "E_LLE = np.load('bn121225417_EMeV.npy') # LLE energy bins, [MeV]\n",
    "SED10 = np.load('bn121225417_SED10.npy') # the output of Manuel's code, N = 1 cm^-2\n",
    "\n",
    "from scipy.interpolate import interp1d\n",
    "f = interp1d(E_LLE*1000, SED10/1000, 'cubic', fill_value=\"extrapolate\") # in keV and per keV\n",
    "\n",
    "\n",
    "# defining Xspec model\n",
    "\n",
    "def ALP(engs, params, flux):\n",
    "    energy_binsizes = np.ediff1d(engs)\n",
    "    # finding the average bin value for energy\n",
    "    energy = (np.asarray(engs[:-1])+np.asarray(engs[1:]))/2\n",
    "    flux[:] = f(energy) * energy_binsizes\n",
    "\n",
    "ALPInfo = ()\n",
    "xs.AllModels.addPyMod(ALP, ALPInfo, 'add', spectrumDependent=False)"
   ]
  },
  {
   "cell_type": "code",
   "execution_count": null,
   "metadata": {},
   "outputs": [],
   "source": [
    "normALP = np.zeros((30,2001))\n",
    "chi_stat = np.zeros((30,2001))\n",
    "Fit_st = np.zeros((30,2001))\n",
    "\n",
    "xs.AllData.clear()   # clear all data, if any.\n",
    "\n",
    "for j in range(30):\n",
    "    for i in range(1,2001):\n",
    "        xs.AllData.clear()\n",
    "        s=xs.Spectrum(\"bn121225417_fakeit_%s.fak{%s}\" %(j,i)) \n",
    "        s.response = \"bn121225417_LAT-LLE_weightedrsp.rsp\"\n",
    "        s.background= (\"bn121225417_LAT-LLE_bkgspectra.bak{1}\")\n",
    "        xs.AllModels.clear()\n",
    "        m=xs.Model(\"ALP\")\n",
    "        xs.Fit.statMethod = \"pgstat\"\n",
    "        #List of value floats [val,delta,min,bot,top,max].\n",
    "        #m.ALP.norm.values=[N[j], N[j]*0.1, N[j]*0.1, N[j]*0.95, N[j]*1.05, N[j]*1.95]\n",
    "        m.ALP.norm.frozen = False\n",
    "        xs.Fit.perform()\n",
    "        normALP[j,i] = m.ALP.norm.values[0]\n",
    "        chi_stat[j,i] = xs.Fit.testStatistic\n",
    "        Fit_st[j,i] = xs.Fit.statistic\n",
    "        \n",
    "np.save('TS_pgfit_ALP.npy', chi_stat)\n",
    "np.save('pgfit_ALP.npy', Fit_st)\n",
    "np.save('norm_ALP.npy', normALP)       "
   ]
  },
  {
   "cell_type": "code",
   "execution_count": null,
   "metadata": {},
   "outputs": [],
   "source": [
    "# # Test fit \n",
    "\n",
    "# xs.AllData.clear()\n",
    "# s=xs.Spectrum(\"bn121225417_fakeit_10.fak{100}\") \n",
    "# s.response = \"bn121225417_LAT-LLE_weightedrsp.rsp\"\n",
    "# s.background= (\"bn121225417_LAT-LLE_bkgspectra.bak{1}\")\n",
    "# xs.AllModels.clear()\n",
    "# m=xs.Model(\"ALP\")\n",
    "# xs.Fit.statMethod = \"pgstat\"\n",
    "# #List of value floats [val,delta,min,bot,top,max].\n",
    "# #m.ALP.norm.values=[N[j], N[j]*0.1, N[j]*0.1, N[j]*0.95, N[j]*1.05, N[j]*1.95]\n",
    "# m.ALP.norm.frozen = False\n",
    "# xs.Fit.perform()        "
   ]
  },
  {
   "cell_type": "code",
   "execution_count": null,
   "metadata": {},
   "outputs": [],
   "source": [
    "# xs.Plot.device=\"/xs\"\n",
    "# xs.Plot.xAxis=\"MeV\"\n",
    "# xs.Plot.add=True\n",
    "# xs.Plot.background=True\n",
    "# xs.Plot.xLog=True\n",
    "# xs.Plot.yLog=True\n",
    "# xs.Plot.show()\n",
    "# xs.Plot(\"model ufspec data\")"
   ]
  },
  {
   "cell_type": "code",
   "execution_count": null,
   "metadata": {},
   "outputs": [],
   "source": []
  }
 ],
 "metadata": {
  "kernelspec": {
   "display_name": "Python 2",
   "language": "python",
   "name": "python2"
  },
  "language_info": {
   "codemirror_mode": {
    "name": "ipython",
    "version": 2
   },
   "file_extension": ".py",
   "mimetype": "text/x-python",
   "name": "python",
   "nbconvert_exporter": "python",
   "pygments_lexer": "ipython2",
   "version": "2.7.15"
  }
 },
 "nbformat": 4,
 "nbformat_minor": 2
}
