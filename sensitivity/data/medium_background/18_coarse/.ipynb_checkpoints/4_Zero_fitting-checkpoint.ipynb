{
 "cells": [
  {
   "cell_type": "code",
   "execution_count": 2,
   "metadata": {},
   "outputs": [],
   "source": [
    "# Importing the necessary packages\n",
    "\n",
    "import numpy as np\n",
    "import os, sys\n",
    "import matplotlib.pyplot as plt\n",
    "\n",
    "# importing XSPEC\n",
    "\n",
    "import xspec as xs\n",
    "xs.Xset.allowPrompting = False #keeps pyxspec from hanging, waiting a response to a prompt\n",
    "xs.Xset.allowNewAttributes = True"
   ]
  },
  {
   "cell_type": "code",
   "execution_count": 3,
   "metadata": {},
   "outputs": [],
   "source": [
    "N = np.logspace(np.log10(8.4e-8), np.log10(8.4e2), 30) # normalization values, [1e-52 cm^-2]\n",
    "SED10 = np.load('bn121225417_SED18.npy') # the output of Manuel's code, N = 1 cm^-2\n",
    "\n",
    "\n",
    "def zero(engs, params, flux):\n",
    "    energy_binsizes = np.ediff1d(engs)\n",
    "    flux[:] = energy_binsizes * 1e-150\n",
    "    \n",
    "zeroInfo = ()\n",
    "xs.AllModels.addPyMod(zero, zeroInfo, 'add',  spectrumDependent=False)"
   ]
  },
  {
   "cell_type": "code",
   "execution_count": 3,
   "metadata": {},
   "outputs": [],
   "source": [
    "normZERO = np.zeros((30,2001))\n",
    "chi_stat = np.zeros((30,2001))\n",
    "Fit_st = np.zeros((30,2001))\n",
    "\n",
    "xs.AllData.clear()   # clear all data, if any.\n",
    "\n",
    "for j in range(30):\n",
    "    for i in range(1,2001):\n",
    "        xs.AllData.clear()\n",
    "        s=xs.Spectrum(\"bn121225417_fakeit_%s.fak{%s}\" %(j,i))\n",
    "        s.response = \"bn121225417_LAT-LLE_weightedrsp.rsp\"\n",
    "        s.background= (\"bn121225417_LAT-LLE_bkgspectra.bak{1}\")\n",
    "        xs.AllModels.clear()\n",
    "        m=xs.Model(\"zero\")\n",
    "        xs.Fit.statMethod = \"pgstat\"\n",
    "        xs.Fit.perform()\n",
    "        chi_stat[j,i] = xs.Fit.testStatistic\n",
    "        Fit_st[j,i] = xs.Fit.statistic  \n",
    "        \n",
    "np.save('TS_pgfit_ZERO.npy', chi_stat)\n",
    "np.save('pgfit_ZERO.npy', Fit_st)     "
   ]
  },
  {
   "cell_type": "code",
   "execution_count": null,
   "metadata": {},
   "outputs": [],
   "source": [
    "      "
   ]
  },
  {
   "cell_type": "code",
   "execution_count": null,
   "metadata": {},
   "outputs": [],
   "source": []
  },
  {
   "cell_type": "code",
   "execution_count": null,
   "metadata": {},
   "outputs": [],
   "source": []
  }
 ],
 "metadata": {
  "kernelspec": {
   "display_name": "Python 2",
   "language": "python",
   "name": "python2"
  },
  "language_info": {
   "codemirror_mode": {
    "name": "ipython",
    "version": 2
   },
   "file_extension": ".py",
   "mimetype": "text/x-python",
   "name": "python",
   "nbconvert_exporter": "python",
   "pygments_lexer": "ipython2",
   "version": "2.7.15"
  }
 },
 "nbformat": 4,
 "nbformat_minor": 2
}
